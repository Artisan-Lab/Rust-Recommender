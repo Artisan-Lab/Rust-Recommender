{
 "cells": [
  {
   "cell_type": "markdown",
   "metadata": {},
   "source": [
    "创建数据增强\n",
    "对每个wrong代码进行数据插入，\n",
    "后加入let augmenti = 1;\n",
    "      let mut augmenti = 1;\n",
    "      let mut augmenti = &1;\n",
    "      let augmenti = &1;\n",
    "500份"
   ]
  },
  {
   "cell_type": "code",
   "execution_count": 7,
   "metadata": {},
   "outputs": [],
   "source": [
    "import os\n",
    "import random\n",
    "\n",
    "\n",
    "aug1 = [\"let augment\", \"let mut augment\", \"let mut augment\",\"let augment\"]\n",
    "aug2 = [\" = 1;\",\" = 1;\",\" = &1;\",\" = &1;\"]\n",
    "\n",
    "\n",
    "# i是增强多少份 dir是目前的地址\n",
    "def augment (dir = \"./dataok/15e502\",nums = \"./dataok/code1\",times=30):\n",
    "    rsdir = f\"{dir}/wrong.rs\"\n",
    "    os.mkdir(nums)\n",
    "    with open(rsdir, \"r\") as file:\n",
    "        aug_str = file.read()\n",
    "        for i in range(0,3) :\n",
    "            A = list(aug_str)\n",
    "            for j in range(0,10):\n",
    "                p = 10*i+j #当前是第几个\n",
    "                \n",
    "                # 随机一个数字 0-20\n",
    "\n",
    "                rander = random.randint(1,20)\n",
    "                # print(rander)\n",
    "                # 在第rander个；位置插入数\n",
    "                x = 0\n",
    "                t = 0\n",
    "                while (True):\n",
    "                    if t == A.__len__() -1 :\n",
    "                        t = 0\n",
    "                    if A[t] ==';' : #分号插入存在问题，如果；出现在use之后 或者 struct之后则不能插入\n",
    "                        flager = False\n",
    "                        # 判断出现在use之后\n",
    "                        for exsit in range(0,15):\n",
    "                            if A[t-exsit] ==':' :\n",
    "                                flager = True\n",
    "                        if flager == True :\n",
    "                            continue\n",
    "                        # TODO 如何判断出现在 sturct 之后？\n",
    "                        x = x+1\n",
    "                        if x ==rander :\n",
    "                            auger = random.randint(0,3)\n",
    "                            insertstr = f\"{aug1[auger]}{p}{aug2[auger]}\"\n",
    "                            A.insert(t+1,insertstr)\n",
    "                            newstr = ''.join(A)\n",
    "                            filename = f\"{p}.rs\"\n",
    "                            newdir = f\"{nums}/{filename}\"\n",
    "                            with open(newdir, \"w\") as file:\n",
    "                                file.write(newstr)\n",
    "                            break\n",
    "                    t = t +1 \n",
    "                \n",
    "\n",
    "\n",
    "\n",
    "\n",
    "\n",
    "        # aug_str是源代码 在其中插入 let语句\n",
    "\n",
    "\n"
   ]
  },
  {
   "cell_type": "code",
   "execution_count": 10,
   "metadata": {},
   "outputs": [],
   "source": [
    "# 读取每一份代码\n",
    "a = [\"502\", \"596\",\"106\",\"597\",\"506\",\"507\",\"382\",\"499\",\"505\",\"716\"]\n",
    "\n",
    "def every_code_aug():\n",
    "    base_dir = \"./dataok/\"\n",
    "    x = 12\n",
    "    for i in range(440,1500):\n",
    "        for j in range(0,a.__len__()):\n",
    "            file_dir = f\"{base_dir}{i}e{a[j]}/wrong.rs\"\n",
    "            if not os.path.isfile(file_dir):\n",
    "                continue\n",
    "            else :\n",
    "                fileterdir = f\"{base_dir}{i}e{a[j]}\"\n",
    "                nums = f\"./dataok/code{x}\"\n",
    "                augment(dir = fileterdir,nums=nums)\n",
    "                x = x + 1\n",
    "\n",
    "every_code_aug()"
   ]
  },
  {
   "cell_type": "code",
   "execution_count": 14,
   "metadata": {},
   "outputs": [],
   "source": [
    "# 读取每一个code的1.txt 获取出现问题的函数名, 放入codei文件夹中\n",
    "a = [\"502\", \"596\",\"106\",\"597\",\"506\",\"507\",\"382\",\"499\",\"505\",\"716\"]\n",
    "import os\n",
    "base_dir = \"./dataok/\"\n",
    "\n",
    "\n",
    "def got_function_name():\n",
    "    x = 0\n",
    "    for i in range(0,1500):\n",
    "        for j in range(0,a.__len__()):\n",
    "            file_dir = f\"{base_dir}{i}e{a[j]}/1.txt\"\n",
    "            if not os.path.isfile(file_dir):\n",
    "                continue\n",
    "            else :\n",
    "                with open(file_dir, \"r\") as file:\n",
    "                    function_name = file.read()\n",
    "                    namedir = f\"./dataok/code{x}/name.txt\"\n",
    "                    with open(namedir, \"w\") as file:\n",
    "                        file.write(function_name)\n",
    "                x = x + 1\n",
    "got_function_name()"
   ]
  }
 ],
 "metadata": {
  "kernelspec": {
   "display_name": "Python 3.10.9 ('spider')",
   "language": "python",
   "name": "python3"
  },
  "language_info": {
   "codemirror_mode": {
    "name": "ipython",
    "version": 3
   },
   "file_extension": ".py",
   "mimetype": "text/x-python",
   "name": "python",
   "nbconvert_exporter": "python",
   "pygments_lexer": "ipython3",
   "version": "3.10.9"
  },
  "orig_nbformat": 4,
  "vscode": {
   "interpreter": {
    "hash": "b1504e71fa7a8f534de15a05bc714759596d77dc1e782551d9a4a42b6ee7164f"
   }
  }
 },
 "nbformat": 4,
 "nbformat_minor": 2
}
